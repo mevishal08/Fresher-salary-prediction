{
 "cells": [
  {
   "cell_type": "code",
   "execution_count": 2,
   "id": "218e9ba6",
   "metadata": {},
   "outputs": [],
   "source": [
    "import joblib"
   ]
  },
  {
   "cell_type": "code",
   "execution_count": 5,
   "id": "3c91303e",
   "metadata": {},
   "outputs": [
    {
     "data": {
      "text/plain": [
       "array([516574.72], dtype=float32)"
      ]
     },
     "execution_count": 5,
     "metadata": {},
     "output_type": "execute_result"
    }
   ],
   "source": [
    "from joblib import dump, load\n",
    "import numpy as np\n",
    "model = load('salary.joblib') \n",
    "features = np.array([[ 5.60735163e-01,  6.05911955e-02,  2.84627227e-01, -2.91897454e-01,\n",
    "        1.75707571e+00, -2.31702174e-01, -5.32854179e-01, -6.37404566e-01,\n",
    "        8.26599749e-01, -2.57439165e-01,  6.65057017e-16,  1.30969573e-15,\n",
    "       -1.31186835e-15, -3.84776705e-01, -2.93584226e-15,  0.00000000e+00,\n",
    "        8.52790868e-15, -5.20450956e-01,  7.18519263e-01, -6.50199979e-01,\n",
    "       -7.22942682e-01,  1.16404540e-02]])\n",
    "model.predict(features)"
   ]
  },
  {
   "cell_type": "code",
   "execution_count": null,
   "id": "20f2ef0b",
   "metadata": {},
   "outputs": [],
   "source": []
  }
 ],
 "metadata": {
  "kernelspec": {
   "display_name": "Python 3 (ipykernel)",
   "language": "python",
   "name": "python3"
  },
  "language_info": {
   "codemirror_mode": {
    "name": "ipython",
    "version": 3
   },
   "file_extension": ".py",
   "mimetype": "text/x-python",
   "name": "python",
   "nbconvert_exporter": "python",
   "pygments_lexer": "ipython3",
   "version": "3.9.12"
  }
 },
 "nbformat": 4,
 "nbformat_minor": 5
}
